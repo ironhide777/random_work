{
 "cells": [
  {
   "cell_type": "code",
   "execution_count": 1,
   "metadata": {},
   "outputs": [
    {
     "name": "stdout",
     "output_type": "stream",
     "text": [
      "total number of countries range(0, 250)\n"
     ]
    }
   ],
   "source": [
    "import simplejson as json\n",
    "import numpy as np\n",
    "import math as Math\n",
    "#countriesV2.json\n",
    "#File_name = str(input (\"Enter the file name\"))\n",
    "#File_format = str(input (\"Enter file format\"))\n",
    "#File_name = File_name + File_format\n",
    "with open('countriesV2.json', 'r') as f:\n",
    "    json_text = f.read();\n",
    "\n",
    "# Decode the JSON string into a Python dictionary.\n",
    "countriesV2_dict = json.loads(json_text);\n",
    "r = range(len(countriesV2_dict));\n",
    "print(\"total number of countries\", r);"
   ]
  },
  {
   "cell_type": "code",
   "execution_count": 2,
   "metadata": {},
   "outputs": [],
   "source": [
    "data_country =[]\n",
    "data_population =[]\n",
    "data_latlng =[]\n",
    "for R in range(len(countriesV2_dict)):\n",
    "    if len(data_country) ==20:\n",
    "        break\n",
    "    if countriesV2_dict[R]['population'] >= 11750:\n",
    "        #print(\"The country name {} population {}.\".format(countriesV2_dict[R]['name'], countriesV2_dict[R][\"population\"]));\n",
    "        #print(\"The value of latitude and longititude {}.\".format(countriesV2_dict[R]['latlng']));\n",
    "        \n",
    "        data_country.append((countriesV2_dict[R]['name']));\n",
    "        \n",
    "        data_population.append(countriesV2_dict[R][\"population\"]);\n",
    "        \n",
    "        data_latlng.append(countriesV2_dict[R]['latlng']); \n",
    "        \n",
    "#print(\"R\", R)\n",
    "#print(len(data_country))\n",
    "#print (np.array(data_country));\n",
    "#print (np.array(data_population));\n",
    "#print (np.array(data_latlng));\n",
    "\n",
    "for L in range(len(data_latlng)):\n",
    "    if data_latlng[L] == []:\n",
    "        print (data_latlng[L]);\n",
    "        dumlist = [0, 0];\n",
    "        data_latlng[L] = dumlist;\n",
    "        \n",
    "#print (np.array(data_latlng));  \n",
    "\n",
    "#print (data_country[5]);\n",
    "#print (data_population[5]);\n",
    "#print (data_latlng[5]);\n",
    "\n",
    "\n",
    "\n",
    "lat = []\n",
    "lng = []\n",
    "for i in range(len(data_latlng)):\n",
    "    Virtual_latlng = data_latlng[i];\n",
    "    lat.append(Virtual_latlng[0]);\n",
    "    lng.append(Virtual_latlng[1]);\n",
    "#print (lat)\n",
    "#print (lng)"
   ]
  },
  {
   "cell_type": "code",
   "execution_count": 3,
   "metadata": {},
   "outputs": [],
   "source": [
    "n = len(data_country)\n",
    "Total_lines = round (float((n*(n-1))/2))\n",
    "#print (Total_lines)"
   ]
  },
  {
   "cell_type": "code",
   "execution_count": 4,
   "metadata": {},
   "outputs": [],
   "source": [
    "\n",
    "def cal_distance (lat1, lon1, lat2, lon2):\n",
    "    \n",
    "    def deg2rad(deg):\n",
    "        return (deg * (3.14/180))\n",
    "\n",
    "    Radius = 6371; # Radius of the earth in km\n",
    "    dLat = float(deg2rad(lat2-lat1));  # deg2rad below\n",
    "    dLon = float(deg2rad(lon2-lon1)); \n",
    "    a = Math.sin(dLat/2) * Math.sin(dLat/2) + Math.cos(deg2rad(lat1)) * Math.cos(deg2rad(lat2)) * Math.sin(dLon/2) * Math.sin(dLon/2)\n",
    "    c = 2 * Math.atan2(Math.sqrt(a), Math.sqrt(1-a)) \n",
    "    d = R * c; # Distance in km\n",
    "    return d;\n"
   ]
  },
  {
   "cell_type": "code",
   "execution_count": 5,
   "metadata": {},
   "outputs": [],
   "source": [
    "lat = []\n",
    "lng = []\n",
    "for i in range(len(data_latlng)):\n",
    "    Virtual_latlng = data_latlng[i];\n",
    "    lat.append(Virtual_latlng[0]);\n",
    "    lng.append(Virtual_latlng[1]);\n",
    "#print (lat)\n",
    "#print (lng)\n",
    "\n"
   ]
  },
  {
   "cell_type": "code",
   "execution_count": 6,
   "metadata": {},
   "outputs": [],
   "source": [
    "#combinations\n",
    "com1=[]\n",
    "com2=[]\n",
    "com3=[]\n",
    "com4=[]\n",
    "#print (len(lat))\n",
    "length =len(lat)\n",
    "for k in range (0,length):\n",
    "    V=length-k\n",
    "    #print(\"K\",k)\n",
    "    for k2 in range (0, V):\n",
    "        #print(\"K2-------\",k2)\n",
    "        R=k2+1\n",
    "        #print (\"R---\",R)\n",
    "        #print (\"length---------------\",length)\n",
    "        if R == (length-k):\n",
    "            #print(\"$$$$$$$$$$$$$break$$$$$$$$\")\n",
    "            break \n",
    "        #print(\"entered\")\n",
    "        com1.append(lat[k]);\n",
    "        com2.append(lat[R]);\n",
    "        com3.append(lng[k]);\n",
    "        com4.append(lng[R]);\n",
    "        \n",
    "\n",
    "#print(len(com1))\n",
    "#print((com2))\n",
    "# import pandas as pd\n",
    "import pandas as pd\n",
    "\n",
    "# Calling DataFrame constructor after zipping\n",
    "# both lists, with columns specified\n",
    "df = pd.DataFrame(list(zip(com1, com3, com2, com4)),\n",
    "               columns =['lat point1', 'lng point1', 'lat point2', 'lng point2'])\n",
    "#print (df)\n"
   ]
  },
  {
   "cell_type": "code",
   "execution_count": 7,
   "metadata": {},
   "outputs": [],
   "source": [
    "Distance = []\n",
    "for D in range(0, Total_lines):\n",
    "    lat1=com1[D]\n",
    "    lon1=com3[D]\n",
    "    lat2=com2[D]\n",
    "    lon2=com4[D]\n",
    "    d=cal_distance (round(lat1,2), round(lon1,2), round(lat2,2), round(lon2,2))\n",
    "    Distance.append(d);\n",
    "#print (Distance);\n",
    "#cal_distance (lat1, lon1, lat2, lon2):\n",
    "#com1, com3, com2, com4\n",
    "#'lat point1', 'lng point1', 'lat point2', 'lng point2'"
   ]
  },
  {
   "cell_type": "code",
   "execution_count": 8,
   "metadata": {},
   "outputs": [
    {
     "name": "stdout",
     "output_type": "stream",
     "text": [
      "225.76\n",
      "Total distance = 225.76 Km\n"
     ]
    }
   ],
   "source": [
    "Dis = pd.DataFrame(list(Distance),\n",
    "                   columns =['Distance in KM'])\n",
    "#print (Dis)\n",
    "Rdis=[]\n",
    "for RV in range (len(Distance)):\n",
    "    RVal=Distance[RV]\n",
    "    RVal=round(RVal,2)\n",
    "    Rdis.append(RVal)\n",
    "    \n",
    "Total=round(sum(Rdis),2)\n",
    "print (Total)\n",
    "print('Total distance = {} Km'.format(Total))"
   ]
  },
  {
   "cell_type": "code",
   "execution_count": null,
   "metadata": {},
   "outputs": [],
   "source": []
  },
  {
   "cell_type": "code",
   "execution_count": null,
   "metadata": {},
   "outputs": [],
   "source": []
  },
  {
   "cell_type": "code",
   "execution_count": null,
   "metadata": {},
   "outputs": [],
   "source": []
  },
  {
   "cell_type": "code",
   "execution_count": null,
   "metadata": {},
   "outputs": [],
   "source": []
  }
 ],
 "metadata": {
  "kernelspec": {
   "display_name": "Python 3",
   "language": "python",
   "name": "python3"
  },
  "language_info": {
   "codemirror_mode": {
    "name": "ipython",
    "version": 3
   },
   "file_extension": ".py",
   "mimetype": "text/x-python",
   "name": "python",
   "nbconvert_exporter": "python",
   "pygments_lexer": "ipython3",
   "version": "3.8.3"
  }
 },
 "nbformat": 4,
 "nbformat_minor": 4
}
